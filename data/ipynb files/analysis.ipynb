{
 "cells": [
  {
   "cell_type": "code",
   "execution_count": 5,
   "id": "cbddcabf",
   "metadata": {},
   "outputs": [
    {
     "name": "stdout",
     "output_type": "stream",
     "text": [
      "List of column names: ['', 'ID', 'Title', 'Year', 'Age', 'IMDb', 'Rotten Tomatoes', 'Netflix', 'Hulu', 'Prime Video', 'Disney+', 'Type']\n",
      "First 5 Rows: ['0', '1', 'Breaking Bad', '2008', '18+', '9.4/10', '100/100', '1', '0', '0', '0', '1']\n",
      "First 5 Rows: ['1', '2', 'Stranger Things', '2016', '16+', '8.7/10', '96/100', '1', '0', '0', '0', '1']\n",
      "First 5 Rows: ['2', '3', 'Attack on Titan', '2013', '18+', '9.0/10', '95/100', '1', '1', '0', '0', '1']\n",
      "First 5 Rows: ['3', '4', 'Better Call Saul', '2015', '18+', '8.8/10', '94/100', '1', '0', '0', '0', '1']\n",
      "First 5 Rows: ['4', '5', 'Dark', '2017', '16+', '8.8/10', '93/100', '1', '0', '0', '0', '1']\n"
     ]
    }
   ],
   "source": [
    "import csv\n",
    "import pandas as pd\n",
    "\n",
    "# Column Names and First 5 Rows\n",
    "with open('/Users/Marcy_Student/Desktop/m0-Final_Project/data/csv files/tv_shows.csv', encoding='utf-8') as file:\n",
    "    reader = csv.reader(file,delimiter=',') \n",
    "    header = next(reader)\n",
    "    print(\"List of column names:\", header)\n",
    "    for i, row in enumerate(reader):\n",
    "        if i < 5:\n",
    "            print('First 5 Rows:', row)\n",
    "    \n",
    "\n",
    "\n",
    "\n"
   ]
  },
  {
   "cell_type": "code",
   "execution_count": 6,
   "id": "e4952a7a",
   "metadata": {},
   "outputs": [
    {
     "name": "stdout",
     "output_type": "stream",
     "text": [
      "Header Type: <class 'str'>\n",
      "Header Type: <class 'str'>\n",
      "Header Type: <class 'str'>\n",
      "Header Type: <class 'str'>\n",
      "Header Type: <class 'str'>\n",
      "Header Type: <class 'str'>\n",
      "Header Type: <class 'str'>\n",
      "Header Type: <class 'str'>\n",
      "Header Type: <class 'str'>\n",
      "Header Type: <class 'str'>\n",
      "Header Type: <class 'str'>\n"
     ]
    }
   ],
   "source": [
    "# Header Type\n",
    "for item in header[0:-1]:\n",
    "    print('Header Type:', type(item))"
   ]
  },
  {
   "cell_type": "code",
   "execution_count": 7,
   "id": "a2cddecd",
   "metadata": {},
   "outputs": [
    {
     "name": "stdout",
     "output_type": "stream",
     "text": [
      "Netflix Show Availability: 1971\n",
      "Hulu Show Availability: 1621\n",
      "Prime Video Show Availability: 1831\n",
      "Disney+ Show Availability: 351\n"
     ]
    }
   ],
   "source": [
    "# Show Availability Count of all Streaming Platforms\n",
    "df = pd.read_csv('/Users/Marcy_Student/Desktop/m0-Final_Project/data/csv files/tv_shows.csv')\n",
    "\n",
    "N_count = df['Netflix'] >= 1\n",
    "H_count = df['Hulu'] >= 1\n",
    "PV_count = df['Prime Video'] >= 1\n",
    "D_count = df['Disney+'] >= 1\n",
    "\n",
    "print('Netflix Show Availability:', N_count.sum())\n",
    "print('Hulu Show Availability:',H_count.sum())\n",
    "print('Prime Video Show Availability:', PV_count.sum())\n",
    "print('Disney+ Show Availability:', D_count.sum())\n"
   ]
  },
  {
   "cell_type": "code",
   "execution_count": 8,
   "id": "496a4c32",
   "metadata": {},
   "outputs": [
    {
     "name": "stdout",
     "output_type": "stream",
     "text": [
      "      Unnamed: 0    ID               Title  Year  Age    IMDb Rotten Tomatoes  \\\n",
      "0              0     1        Breaking Bad  2008  18+  9.4/10         100/100   \n",
      "1              1     2     Stranger Things  2016  16+  8.7/10          96/100   \n",
      "2              2     3     Attack on Titan  2013  18+  9.0/10          95/100   \n",
      "3              3     4    Better Call Saul  2015  18+  8.8/10          94/100   \n",
      "4              4     5                Dark  2017  16+  8.8/10          93/100   \n",
      "...          ...   ...                 ...   ...  ...     ...             ...   \n",
      "4701        4701  5017        Human Nature  2013  NaN     NaN          13/100   \n",
      "5064        5064  5385       The Bad Batch  2021   7+  8.2/10          82/100   \n",
      "5097        5097  5425         The Muppets  2015   7+  7.4/10          64/100   \n",
      "5231        5231  5575  Pick of the Litter  2019   7+  8.1/10          47/100   \n",
      "5303        5303  5650            Becoming  2020  16+  6.8/10          38/100   \n",
      "\n",
      "      Netflix  Hulu  Prime Video  Disney+  Type  \n",
      "0           1     0            0        0     1  \n",
      "1           1     0            0        0     1  \n",
      "2           1     1            0        0     1  \n",
      "3           1     0            0        0     1  \n",
      "4           1     0            0        0     1  \n",
      "...       ...   ...          ...      ...   ...  \n",
      "4701        1     0            1        0     1  \n",
      "5064        1     0            0        1     1  \n",
      "5097        1     0            0        1     1  \n",
      "5231        1     1            0        1     1  \n",
      "5303        1     0            0        1     1  \n",
      "\n",
      "[1971 rows x 12 columns]\n"
     ]
    }
   ],
   "source": [
    "# Filtered List of Netflix Show Availability Count\n",
    "N_filter = df['Netflix'] >= 1\n",
    "df_N_filter = df[N_filter]\n",
    "print(df_N_filter)"
   ]
  },
  {
   "cell_type": "code",
   "execution_count": 9,
   "id": "3eed9679",
   "metadata": {},
   "outputs": [
    {
     "name": "stdout",
     "output_type": "stream",
     "text": [
      "      Unnamed: 0    ID                             Title  Year  Age    IMDb  \\\n",
      "2              2     3                   Attack on Titan  2013  18+  9.0/10   \n",
      "11            11    12                         Community  2009   7+  8.5/10   \n",
      "13            13    14                         Shameless  2011  18+  8.5/10   \n",
      "25            25    26  Fullmetal Alchemist: Brotherhood  2009  16+  9.1/10   \n",
      "29            29    30                    Grey's Anatomy  2005  16+  7.5/10   \n",
      "...          ...   ...                               ...   ...  ...     ...   \n",
      "4124        4124  4417                     Ghost Stories  1997  NaN  6.6/10   \n",
      "4586        4586  4897                     Morning Glory  2013  NaN     NaN   \n",
      "4951        4951  5270                         Supernova  2005  NaN     NaN   \n",
      "5231        5231  5575                Pick of the Litter  2019   7+  8.1/10   \n",
      "5247        5247  5591                         The Lodge  2016  NaN  6.2/10   \n",
      "\n",
      "     Rotten Tomatoes  Netflix  Hulu  Prime Video  Disney+  Type  \n",
      "2             95/100        1     1            0        0     1  \n",
      "11            90/100        1     1            1        0     1  \n",
      "13            90/100        1     1            1        0     1  \n",
      "25            88/100        1     1            0        0     1  \n",
      "29            87/100        1     1            0        0     1  \n",
      "...              ...      ...   ...          ...      ...   ...  \n",
      "4124          39/100        1     1            1        0     1  \n",
      "4586          16/100        0     1            1        0     1  \n",
      "4951          10/100        0     1            1        0     1  \n",
      "5231          47/100        1     1            0        1     1  \n",
      "5247          46/100        0     1            0        1     1  \n",
      "\n",
      "[1621 rows x 12 columns]\n"
     ]
    }
   ],
   "source": [
    "# Filtered List of Hulu Show Availability Count\n",
    "H_filter = df['Hulu'] >= 1\n",
    "df_H_filter = df[H_filter]\n",
    "print(df_H_filter)"
   ]
  },
  {
   "cell_type": "code",
   "execution_count": 10,
   "id": "18041c13",
   "metadata": {},
   "outputs": [
    {
     "name": "stdout",
     "output_type": "stream",
     "text": [
      "      Unnamed: 0    ID                            Title  Year  Age    IMDb  \\\n",
      "5              5     6       Avatar: The Last Airbender  2005   7+  9.3/10   \n",
      "11            11    12                        Community  2009   7+  8.5/10   \n",
      "13            13    14                        Shameless  2011  18+  8.5/10   \n",
      "37            37    38            American Horror Story  2011  18+  8.0/10   \n",
      "40            40    41   Star Trek: The Next Generation  1987   7+  8.6/10   \n",
      "...          ...   ...                              ...   ...  ...     ...   \n",
      "5052        5052  5371             Breakfast with Bevan  2013  NaN     NaN   \n",
      "5053        5053  5372            Gas, Grub, and Ghosts  2017  NaN     NaN   \n",
      "5054        5054  5373            Extreme Constructions  2017  NaN     NaN   \n",
      "5055        5055  5374        Nature's Treasure Islands  2014  NaN     NaN   \n",
      "5056        5056  5375  Lego Set Builds Chima - Artifex  2017  NaN     NaN   \n",
      "\n",
      "     Rotten Tomatoes  Netflix  Hulu  Prime Video  Disney+  Type  \n",
      "5             93/100        1     0            1        0     1  \n",
      "11            90/100        1     1            1        0     1  \n",
      "13            90/100        1     1            1        0     1  \n",
      "37            86/100        1     1            1        0     1  \n",
      "40            86/100        1     1            1        0     1  \n",
      "...              ...      ...   ...          ...      ...   ...  \n",
      "5052          10/100        0     0            1        0     1  \n",
      "5053          10/100        0     0            1        0     1  \n",
      "5054          10/100        0     0            1        0     1  \n",
      "5055          10/100        0     0            1        0     1  \n",
      "5056          10/100        0     0            1        0     1  \n",
      "\n",
      "[1831 rows x 12 columns]\n"
     ]
    }
   ],
   "source": [
    "# Filtered List of Prime Video Show Availability Count\n",
    "PV_filter = df['Prime Video'] >= 1\n",
    "df_PV_filter = df[PV_filter]\n",
    "print(df_PV_filter)"
   ]
  },
  {
   "cell_type": "code",
   "execution_count": 11,
   "id": "60142d80",
   "metadata": {},
   "outputs": [
    {
     "name": "stdout",
     "output_type": "stream",
     "text": [
      "      Unnamed: 0    ID                                  Title  Year  Age  \\\n",
      "321          321   323                   Beauty and the Beast  2012   7+   \n",
      "833          833   836                               PJ Masks  2015  all   \n",
      "920          920   923                                  X-Men  2011  16+   \n",
      "1219        1219  1222                          Gigantosaurus  2019  all   \n",
      "1580        1580  1586                       Inspector Gadget  2015  all   \n",
      "...          ...   ...                                    ...   ...  ...   \n",
      "5363        5363  5713                       Paradise Islands  2017  NaN   \n",
      "5364        5364  5714                         Mexico Untamed  2018  NaN   \n",
      "5365        5365  5715                  Wild Centeral America  2020  NaN   \n",
      "5366        5366  5716                            Wild Russia  2018  NaN   \n",
      "5367        5367  5717  Fearless Adventures with Jack Randall  2018  NaN   \n",
      "\n",
      "        IMDb Rotten Tomatoes  Netflix  Hulu  Prime Video  Disney+  Type  \n",
      "321   7.0/10          69/100        1     0            0        1     1  \n",
      "833   5.5/10          55/100        1     0            0        1     1  \n",
      "920   6.9/10          53/100        1     0            0        1     1  \n",
      "1219  7.2/10          48/100        1     0            0        1     1  \n",
      "1580  4.6/10          40/100        1     0            0        1     1  \n",
      "...      ...             ...      ...   ...          ...      ...   ...  \n",
      "5363     NaN          10/100        0     0            0        1     1  \n",
      "5364     NaN          10/100        0     0            0        1     1  \n",
      "5365     NaN          10/100        0     0            0        1     1  \n",
      "5366     NaN          10/100        0     0            0        1     1  \n",
      "5367     NaN          10/100        0     0            0        1     1  \n",
      "\n",
      "[351 rows x 12 columns]\n"
     ]
    }
   ],
   "source": [
    "# Filtered List of Disney+ Show Availability Count\n",
    "D_filter = df['Disney+'] >= 1\n",
    "df_D_filter = df[D_filter]\n",
    "print(df_D_filter)"
   ]
  },
  {
   "cell_type": "code",
   "execution_count": 12,
   "id": "dc4de527",
   "metadata": {},
   "outputs": [
    {
     "name": "stdout",
     "output_type": "stream",
     "text": [
      "      Unnamed: 0    ID             Title  Year  Age    IMDb Rotten Tomatoes  \\\n",
      "0              0     1      Breaking Bad  2008  18+  9.4/10         100/100   \n",
      "1              1     2   Stranger Things  2016  16+  8.7/10          96/100   \n",
      "2              2     3   Attack on Titan  2013  18+  9.0/10          95/100   \n",
      "3              3     4  Better Call Saul  2015  18+  8.8/10          94/100   \n",
      "4              4     5              Dark  2017  16+  8.8/10          93/100   \n",
      "...          ...   ...               ...   ...  ...     ...             ...   \n",
      "5348        5348  5697     Party Animals  2016  all     NaN          19/100   \n",
      "5349        5349  5698  Nature Boom Time  2016  NaN     NaN          18/100   \n",
      "5356        5356  5705      Marvel Funko  2017  NaN     NaN          14/100   \n",
      "5360        5360  5710       Love & Vets  2017  NaN     NaN          13/100   \n",
      "5363        5363  5713  Paradise Islands  2017  NaN     NaN          10/100   \n",
      "\n",
      "      Netflix  Hulu  Prime Video  Disney+  Type  \n",
      "0           1     0            0        0     1  \n",
      "1           1     0            0        0     1  \n",
      "2           1     1            0        0     1  \n",
      "3           1     0            0        0     1  \n",
      "4           1     0            0        0     1  \n",
      "...       ...   ...          ...      ...   ...  \n",
      "5348        0     0            0        1     1  \n",
      "5349        0     0            0        1     1  \n",
      "5356        0     0            0        1     1  \n",
      "5360        0     0            0        1     1  \n",
      "5363        0     0            0        1     1  \n",
      "\n",
      "[3593 rows x 12 columns]\n"
     ]
    }
   ],
   "source": [
    "year_filter = df['Year'] < 2018\n",
    "df_newer = df[year_filter]\n",
    "print(df_newer)"
   ]
  },
  {
   "cell_type": "markdown",
   "id": "d662818d",
   "metadata": {},
   "source": [
    "***\n",
    "6/7/2025: 12:03PM"
   ]
  },
  {
   "cell_type": "code",
   "execution_count": 13,
   "id": "88a1813c",
   "metadata": {},
   "outputs": [
    {
     "data": {
      "text/plain": [
       "<bound method NDFrame.describe of       Unnamed: 0    ID                                  Title  Year  Age  \\\n",
       "0              0     1                           Breaking Bad  2008  18+   \n",
       "1              1     2                        Stranger Things  2016  16+   \n",
       "2              2     3                        Attack on Titan  2013  18+   \n",
       "3              3     4                       Better Call Saul  2015  18+   \n",
       "4              4     5                                   Dark  2017  16+   \n",
       "...          ...   ...                                    ...   ...  ...   \n",
       "5363        5363  5713                       Paradise Islands  2017  NaN   \n",
       "5364        5364  5714                         Mexico Untamed  2018  NaN   \n",
       "5365        5365  5715                  Wild Centeral America  2020  NaN   \n",
       "5366        5366  5716                            Wild Russia  2018  NaN   \n",
       "5367        5367  5717  Fearless Adventures with Jack Randall  2018  NaN   \n",
       "\n",
       "        IMDb Rotten Tomatoes  Netflix  Hulu  Prime Video  Disney+  Type  \n",
       "0     9.4/10         100/100        1     0            0        0     1  \n",
       "1     8.7/10          96/100        1     0            0        0     1  \n",
       "2     9.0/10          95/100        1     1            0        0     1  \n",
       "3     8.8/10          94/100        1     0            0        0     1  \n",
       "4     8.8/10          93/100        1     0            0        0     1  \n",
       "...      ...             ...      ...   ...          ...      ...   ...  \n",
       "5363     NaN          10/100        0     0            0        1     1  \n",
       "5364     NaN          10/100        0     0            0        1     1  \n",
       "5365     NaN          10/100        0     0            0        1     1  \n",
       "5366     NaN          10/100        0     0            0        1     1  \n",
       "5367     NaN          10/100        0     0            0        1     1  \n",
       "\n",
       "[5368 rows x 12 columns]>"
      ]
     },
     "execution_count": 13,
     "metadata": {},
     "output_type": "execute_result"
    }
   ],
   "source": [
    "df.describe"
   ]
  },
  {
   "cell_type": "code",
   "execution_count": 39,
   "id": "47d6d72e",
   "metadata": {},
   "outputs": [
    {
     "ename": "AttributeError",
     "evalue": "Can only use .str accessor with string values!",
     "output_type": "error",
     "traceback": [
      "\u001b[0;31m---------------------------------------------------------------------------\u001b[0m",
      "\u001b[0;31mAttributeError\u001b[0m                            Traceback (most recent call last)",
      "Cell \u001b[0;32mIn[39], line 2\u001b[0m\n\u001b[1;32m      1\u001b[0m \u001b[38;5;66;03m# Remove \"/100\" from 'Rotten Tomatoes' column, and change it to int\u001b[39;00m\n\u001b[0;32m----> 2\u001b[0m df[\u001b[38;5;124m'\u001b[39m\u001b[38;5;124mRotten Tomatoes\u001b[39m\u001b[38;5;124m'\u001b[39m] \u001b[38;5;241m=\u001b[39m \u001b[43mdf\u001b[49m\u001b[43m[\u001b[49m\u001b[38;5;124;43m'\u001b[39;49m\u001b[38;5;124;43mRotten Tomatoes\u001b[39;49m\u001b[38;5;124;43m'\u001b[39;49m\u001b[43m]\u001b[49m\u001b[38;5;241;43m.\u001b[39;49m\u001b[43mstr\u001b[49m\u001b[38;5;241m.\u001b[39mreplace(\u001b[38;5;124m'\u001b[39m\u001b[38;5;124m/100\u001b[39m\u001b[38;5;124m'\u001b[39m, \u001b[38;5;124m'\u001b[39m\u001b[38;5;124m'\u001b[39m, regex\u001b[38;5;241m=\u001b[39m\u001b[38;5;28;01mFalse\u001b[39;00m)\n\u001b[1;32m      3\u001b[0m df[\u001b[38;5;124m'\u001b[39m\u001b[38;5;124mRotten Tomatoes\u001b[39m\u001b[38;5;124m'\u001b[39m] \u001b[38;5;241m=\u001b[39m df[\u001b[38;5;124m'\u001b[39m\u001b[38;5;124mRotten Tomatoes\u001b[39m\u001b[38;5;124m'\u001b[39m]\u001b[38;5;241m.\u001b[39mastype(\u001b[38;5;28mint\u001b[39m)\n",
      "File \u001b[0;32m/opt/miniconda3/envs/data-analysis-env/lib/python3.9/site-packages/pandas/core/generic.py:6299\u001b[0m, in \u001b[0;36mNDFrame.__getattr__\u001b[0;34m(self, name)\u001b[0m\n\u001b[1;32m   6292\u001b[0m \u001b[38;5;28;01mif\u001b[39;00m (\n\u001b[1;32m   6293\u001b[0m     name \u001b[38;5;129;01mnot\u001b[39;00m \u001b[38;5;129;01min\u001b[39;00m \u001b[38;5;28mself\u001b[39m\u001b[38;5;241m.\u001b[39m_internal_names_set\n\u001b[1;32m   6294\u001b[0m     \u001b[38;5;129;01mand\u001b[39;00m name \u001b[38;5;129;01mnot\u001b[39;00m \u001b[38;5;129;01min\u001b[39;00m \u001b[38;5;28mself\u001b[39m\u001b[38;5;241m.\u001b[39m_metadata\n\u001b[1;32m   6295\u001b[0m     \u001b[38;5;129;01mand\u001b[39;00m name \u001b[38;5;129;01mnot\u001b[39;00m \u001b[38;5;129;01min\u001b[39;00m \u001b[38;5;28mself\u001b[39m\u001b[38;5;241m.\u001b[39m_accessors\n\u001b[1;32m   6296\u001b[0m     \u001b[38;5;129;01mand\u001b[39;00m \u001b[38;5;28mself\u001b[39m\u001b[38;5;241m.\u001b[39m_info_axis\u001b[38;5;241m.\u001b[39m_can_hold_identifiers_and_holds_name(name)\n\u001b[1;32m   6297\u001b[0m ):\n\u001b[1;32m   6298\u001b[0m     \u001b[38;5;28;01mreturn\u001b[39;00m \u001b[38;5;28mself\u001b[39m[name]\n\u001b[0;32m-> 6299\u001b[0m \u001b[38;5;28;01mreturn\u001b[39;00m \u001b[38;5;28;43mobject\u001b[39;49m\u001b[38;5;241;43m.\u001b[39;49m\u001b[38;5;21;43m__getattribute__\u001b[39;49m\u001b[43m(\u001b[49m\u001b[38;5;28;43mself\u001b[39;49m\u001b[43m,\u001b[49m\u001b[43m \u001b[49m\u001b[43mname\u001b[49m\u001b[43m)\u001b[49m\n",
      "File \u001b[0;32m/opt/miniconda3/envs/data-analysis-env/lib/python3.9/site-packages/pandas/core/accessor.py:224\u001b[0m, in \u001b[0;36mCachedAccessor.__get__\u001b[0;34m(self, obj, cls)\u001b[0m\n\u001b[1;32m    221\u001b[0m \u001b[38;5;28;01mif\u001b[39;00m obj \u001b[38;5;129;01mis\u001b[39;00m \u001b[38;5;28;01mNone\u001b[39;00m:\n\u001b[1;32m    222\u001b[0m     \u001b[38;5;66;03m# we're accessing the attribute of the class, i.e., Dataset.geo\u001b[39;00m\n\u001b[1;32m    223\u001b[0m     \u001b[38;5;28;01mreturn\u001b[39;00m \u001b[38;5;28mself\u001b[39m\u001b[38;5;241m.\u001b[39m_accessor\n\u001b[0;32m--> 224\u001b[0m accessor_obj \u001b[38;5;241m=\u001b[39m \u001b[38;5;28;43mself\u001b[39;49m\u001b[38;5;241;43m.\u001b[39;49m\u001b[43m_accessor\u001b[49m\u001b[43m(\u001b[49m\u001b[43mobj\u001b[49m\u001b[43m)\u001b[49m\n\u001b[1;32m    225\u001b[0m \u001b[38;5;66;03m# Replace the property with the accessor object. Inspired by:\u001b[39;00m\n\u001b[1;32m    226\u001b[0m \u001b[38;5;66;03m# https://www.pydanny.com/cached-property.html\u001b[39;00m\n\u001b[1;32m    227\u001b[0m \u001b[38;5;66;03m# We need to use object.__setattr__ because we overwrite __setattr__ on\u001b[39;00m\n\u001b[1;32m    228\u001b[0m \u001b[38;5;66;03m# NDFrame\u001b[39;00m\n\u001b[1;32m    229\u001b[0m \u001b[38;5;28mobject\u001b[39m\u001b[38;5;241m.\u001b[39m\u001b[38;5;21m__setattr__\u001b[39m(obj, \u001b[38;5;28mself\u001b[39m\u001b[38;5;241m.\u001b[39m_name, accessor_obj)\n",
      "File \u001b[0;32m/opt/miniconda3/envs/data-analysis-env/lib/python3.9/site-packages/pandas/core/strings/accessor.py:191\u001b[0m, in \u001b[0;36mStringMethods.__init__\u001b[0;34m(self, data)\u001b[0m\n\u001b[1;32m    188\u001b[0m \u001b[38;5;28;01mdef\u001b[39;00m\u001b[38;5;250m \u001b[39m\u001b[38;5;21m__init__\u001b[39m(\u001b[38;5;28mself\u001b[39m, data) \u001b[38;5;241m-\u001b[39m\u001b[38;5;241m>\u001b[39m \u001b[38;5;28;01mNone\u001b[39;00m:\n\u001b[1;32m    189\u001b[0m     \u001b[38;5;28;01mfrom\u001b[39;00m\u001b[38;5;250m \u001b[39m\u001b[38;5;21;01mpandas\u001b[39;00m\u001b[38;5;21;01m.\u001b[39;00m\u001b[38;5;21;01mcore\u001b[39;00m\u001b[38;5;21;01m.\u001b[39;00m\u001b[38;5;21;01marrays\u001b[39;00m\u001b[38;5;21;01m.\u001b[39;00m\u001b[38;5;21;01mstring_\u001b[39;00m\u001b[38;5;250m \u001b[39m\u001b[38;5;28;01mimport\u001b[39;00m StringDtype\n\u001b[0;32m--> 191\u001b[0m     \u001b[38;5;28mself\u001b[39m\u001b[38;5;241m.\u001b[39m_inferred_dtype \u001b[38;5;241m=\u001b[39m \u001b[38;5;28;43mself\u001b[39;49m\u001b[38;5;241;43m.\u001b[39;49m\u001b[43m_validate\u001b[49m\u001b[43m(\u001b[49m\u001b[43mdata\u001b[49m\u001b[43m)\u001b[49m\n\u001b[1;32m    192\u001b[0m     \u001b[38;5;28mself\u001b[39m\u001b[38;5;241m.\u001b[39m_is_categorical \u001b[38;5;241m=\u001b[39m \u001b[38;5;28misinstance\u001b[39m(data\u001b[38;5;241m.\u001b[39mdtype, CategoricalDtype)\n\u001b[1;32m    193\u001b[0m     \u001b[38;5;28mself\u001b[39m\u001b[38;5;241m.\u001b[39m_is_string \u001b[38;5;241m=\u001b[39m \u001b[38;5;28misinstance\u001b[39m(data\u001b[38;5;241m.\u001b[39mdtype, StringDtype)\n",
      "File \u001b[0;32m/opt/miniconda3/envs/data-analysis-env/lib/python3.9/site-packages/pandas/core/strings/accessor.py:245\u001b[0m, in \u001b[0;36mStringMethods._validate\u001b[0;34m(data)\u001b[0m\n\u001b[1;32m    242\u001b[0m inferred_dtype \u001b[38;5;241m=\u001b[39m lib\u001b[38;5;241m.\u001b[39minfer_dtype(values, skipna\u001b[38;5;241m=\u001b[39m\u001b[38;5;28;01mTrue\u001b[39;00m)\n\u001b[1;32m    244\u001b[0m \u001b[38;5;28;01mif\u001b[39;00m inferred_dtype \u001b[38;5;129;01mnot\u001b[39;00m \u001b[38;5;129;01min\u001b[39;00m allowed_types:\n\u001b[0;32m--> 245\u001b[0m     \u001b[38;5;28;01mraise\u001b[39;00m \u001b[38;5;167;01mAttributeError\u001b[39;00m(\u001b[38;5;124m\"\u001b[39m\u001b[38;5;124mCan only use .str accessor with string values!\u001b[39m\u001b[38;5;124m\"\u001b[39m)\n\u001b[1;32m    246\u001b[0m \u001b[38;5;28;01mreturn\u001b[39;00m inferred_dtype\n",
      "\u001b[0;31mAttributeError\u001b[0m: Can only use .str accessor with string values!"
     ]
    }
   ],
   "source": [
    "# Remove \"/100\" from 'Rotten Tomatoes' column, and change it to int\n",
    "df['Rotten Tomatoes'] = df['Rotten Tomatoes'].str.replace('/100', '', regex=False)\n",
    "df['Rotten Tomatoes'] = df['Rotten Tomatoes'].astype(int)"
   ]
  },
  {
   "cell_type": "code",
   "execution_count": 22,
   "id": "d74da7df",
   "metadata": {},
   "outputs": [
    {
     "data": {
      "text/plain": [
       "Unnamed: 0          int64\n",
       "ID                  int64\n",
       "Title              object\n",
       "Year                int64\n",
       "Age                object\n",
       "IMDb               object\n",
       "Rotten Tomatoes     int64\n",
       "Netflix             int64\n",
       "Hulu                int64\n",
       "Prime Video         int64\n",
       "Disney+             int64\n",
       "Type                int64\n",
       "dtype: object"
      ]
     },
     "execution_count": 22,
     "metadata": {},
     "output_type": "execute_result"
    }
   ],
   "source": [
    "df.dtypes"
   ]
  },
  {
   "cell_type": "code",
   "execution_count": 55,
   "id": "a6bd32f3",
   "metadata": {},
   "outputs": [],
   "source": [
    "N_condition = df['Rotten Tomatoes'] >= 90\n",
    "N_result = df.loc[N_condition, 'Netflix']\n",
    "\n",
    "H_condition = df['Rotten Tomatoes'] >= 90\n",
    "H_result = df.loc[H_condition, 'Hulu']\n",
    "\n",
    "PV_condition = df['Rotten Tomatoes'] >= 90\n",
    "PV_result = df.loc[PV_condition, 'Prime Video']\n",
    "\n",
    "D_condition = df['Rotten Tomatoes'] >= 90\n",
    "D_result = df.loc[D_condition, 'Disney+']\n",
    "\n"
   ]
  },
  {
   "cell_type": "code",
   "execution_count": 59,
   "id": "685276d9",
   "metadata": {},
   "outputs": [
    {
     "name": "stderr",
     "output_type": "stream",
     "text": [
      "/var/folders/gs/yv3dj4zx2tgdd5tw701ypspm0000gp/T/ipykernel_67039/445901837.py:1: FutureWarning: pandas.value_counts is deprecated and will be removed in a future version. Use pd.Series(obj).value_counts() instead.\n",
      "  pd.value_counts(N_result)\n"
     ]
    },
    {
     "data": {
      "text/plain": [
       "Netflix\n",
       "0    21\n",
       "1    17\n",
       "Name: count, dtype: int64"
      ]
     },
     "execution_count": 59,
     "metadata": {},
     "output_type": "execute_result"
    }
   ],
   "source": [
    "pd.value_counts(N_result)"
   ]
  },
  {
   "cell_type": "code",
   "execution_count": 60,
   "id": "650d211f",
   "metadata": {},
   "outputs": [
    {
     "name": "stderr",
     "output_type": "stream",
     "text": [
      "/var/folders/gs/yv3dj4zx2tgdd5tw701ypspm0000gp/T/ipykernel_67039/338343177.py:1: FutureWarning: pandas.value_counts is deprecated and will be removed in a future version. Use pd.Series(obj).value_counts() instead.\n",
      "  pd.value_counts(H_result)\n"
     ]
    },
    {
     "data": {
      "text/plain": [
       "Hulu\n",
       "0    21\n",
       "1    17\n",
       "Name: count, dtype: int64"
      ]
     },
     "execution_count": 60,
     "metadata": {},
     "output_type": "execute_result"
    }
   ],
   "source": [
    "pd.value_counts(H_result)"
   ]
  },
  {
   "cell_type": "code",
   "execution_count": 61,
   "id": "b93951ff",
   "metadata": {},
   "outputs": [
    {
     "name": "stderr",
     "output_type": "stream",
     "text": [
      "/var/folders/gs/yv3dj4zx2tgdd5tw701ypspm0000gp/T/ipykernel_67039/2438829247.py:1: FutureWarning: pandas.value_counts is deprecated and will be removed in a future version. Use pd.Series(obj).value_counts() instead.\n",
      "  pd.value_counts(PV_result)\n"
     ]
    },
    {
     "data": {
      "text/plain": [
       "Prime Video\n",
       "0    28\n",
       "1    10\n",
       "Name: count, dtype: int64"
      ]
     },
     "execution_count": 61,
     "metadata": {},
     "output_type": "execute_result"
    }
   ],
   "source": [
    "pd.value_counts(PV_result)"
   ]
  },
  {
   "cell_type": "code",
   "execution_count": 62,
   "id": "5bbb17fb",
   "metadata": {},
   "outputs": [
    {
     "name": "stderr",
     "output_type": "stream",
     "text": [
      "/var/folders/gs/yv3dj4zx2tgdd5tw701ypspm0000gp/T/ipykernel_67039/3465329362.py:1: FutureWarning: pandas.value_counts is deprecated and will be removed in a future version. Use pd.Series(obj).value_counts() instead.\n",
      "  pd.value_counts(D_result)\n"
     ]
    },
    {
     "data": {
      "text/plain": [
       "Disney+\n",
       "0    35\n",
       "1     3\n",
       "Name: count, dtype: int64"
      ]
     },
     "execution_count": 62,
     "metadata": {},
     "output_type": "execute_result"
    }
   ],
   "source": [
    "pd.value_counts(D_result)"
   ]
  },
  {
   "cell_type": "code",
   "execution_count": null,
   "id": "bc241734",
   "metadata": {},
   "outputs": [],
   "source": []
  }
 ],
 "metadata": {
  "kernelspec": {
   "display_name": "data-analysis-env",
   "language": "python",
   "name": "python3"
  },
  "language_info": {
   "codemirror_mode": {
    "name": "ipython",
    "version": 3
   },
   "file_extension": ".py",
   "mimetype": "text/x-python",
   "name": "python",
   "nbconvert_exporter": "python",
   "pygments_lexer": "ipython3",
   "version": "3.9.22"
  }
 },
 "nbformat": 4,
 "nbformat_minor": 5
}
