{
 "cells": [
  {
   "cell_type": "code",
   "execution_count": 152,
   "id": "cbddcabf",
   "metadata": {},
   "outputs": [
    {
     "name": "stdout",
     "output_type": "stream",
     "text": [
      "List of column names: ['', 'ID', 'Title', 'Year', 'Age', 'IMDb', 'Rotten Tomatoes', 'Netflix', 'Hulu', 'Prime Video', 'Disney+', 'Type']\n",
      "First 5 Rows: ['0', '1', 'Breaking Bad', '2008', '18+', '9.4/10', '100/100', '1', '0', '0', '0', '1']\n",
      "First 5 Rows: ['1', '2', 'Stranger Things', '2016', '16+', '8.7/10', '96/100', '1', '0', '0', '0', '1']\n",
      "First 5 Rows: ['2', '3', 'Attack on Titan', '2013', '18+', '9.0/10', '95/100', '1', '1', '0', '0', '1']\n",
      "First 5 Rows: ['3', '4', 'Better Call Saul', '2015', '18+', '8.8/10', '94/100', '1', '0', '0', '0', '1']\n",
      "First 5 Rows: ['4', '5', 'Dark', '2017', '16+', '8.8/10', '93/100', '1', '0', '0', '0', '1']\n"
     ]
    }
   ],
   "source": [
    "import csv\n",
    "import pandas as pd\n",
    "\n",
    "# Column Names and First 5 Rows\n",
    "with open('/Users/Marcy_Student/Desktop/m0-Final_Project/data/tv_shows.csv', 'r', encoding='utf-8') as file:\n",
    "    reader = csv.reader(file,delimiter=',') \n",
    "    header = next(reader)\n",
    "    print(\"List of column names:\", header)\n",
    "    for i, row in enumerate(reader):\n",
    "        if i < 5:\n",
    "            print('First 5 Rows:', row)\n",
    "    \n",
    "\n",
    "\n",
    "\n"
   ]
  },
  {
   "cell_type": "code",
   "execution_count": 151,
   "id": "e4952a7a",
   "metadata": {},
   "outputs": [
    {
     "name": "stdout",
     "output_type": "stream",
     "text": [
      "Header Type: <class 'str'>\n",
      "Header Type: <class 'str'>\n",
      "Header Type: <class 'str'>\n",
      "Header Type: <class 'str'>\n",
      "Header Type: <class 'str'>\n",
      "Header Type: <class 'str'>\n",
      "Header Type: <class 'str'>\n",
      "Header Type: <class 'str'>\n",
      "Header Type: <class 'str'>\n",
      "Header Type: <class 'str'>\n",
      "Header Type: <class 'str'>\n"
     ]
    }
   ],
   "source": [
    "# Header Type\n",
    "for item in header[0:-1]:\n",
    "    print('Header Type:', type(item))"
   ]
  },
  {
   "cell_type": "code",
   "execution_count": 154,
   "id": "a2cddecd",
   "metadata": {},
   "outputs": [
    {
     "name": "stdout",
     "output_type": "stream",
     "text": [
      "Netflix Show Availability: 1971\n",
      "Hulu Show Availability: 1621\n",
      "Prime Video Show Availability: 1831\n",
      "Disney+ Show Availability: 351\n"
     ]
    }
   ],
   "source": [
    "# Show Availability Count of all Streaming Platforms\n",
    "df = pd.read_csv('/Users/Marcy_Student/Desktop/m0-Final_Project/data/tv_shows.csv')\n",
    "\n",
    "N_count = df['Netflix'] >= 1\n",
    "H_count = df['Hulu'] >= 1\n",
    "PV_count = df['Prime Video'] >= 1\n",
    "D_count = df['Disney+'] >= 1\n",
    "\n",
    "print('Netflix Show Availability:', N_count.sum())\n",
    "print('Hulu Show Availability:',H_count.sum())\n",
    "print('Prime Video Show Availability:', PV_count.sum())\n",
    "print('Disney+ Show Availability:', D_count.sum())\n"
   ]
  },
  {
   "cell_type": "code",
   "execution_count": null,
   "id": "496a4c32",
   "metadata": {},
   "outputs": [
    {
     "name": "stdout",
     "output_type": "stream",
     "text": [
      "      Unnamed: 0    ID               Title  Year  Age    IMDb Rotten Tomatoes  \\\n",
      "0              0     1        Breaking Bad  2008  18+  9.4/10         100/100   \n",
      "1              1     2     Stranger Things  2016  16+  8.7/10          96/100   \n",
      "2              2     3     Attack on Titan  2013  18+  9.0/10          95/100   \n",
      "3              3     4    Better Call Saul  2015  18+  8.8/10          94/100   \n",
      "4              4     5                Dark  2017  16+  8.8/10          93/100   \n",
      "...          ...   ...                 ...   ...  ...     ...             ...   \n",
      "4701        4701  5017        Human Nature  2013  NaN     NaN          13/100   \n",
      "5064        5064  5385       The Bad Batch  2021   7+  8.2/10          82/100   \n",
      "5097        5097  5425         The Muppets  2015   7+  7.4/10          64/100   \n",
      "5231        5231  5575  Pick of the Litter  2019   7+  8.1/10          47/100   \n",
      "5303        5303  5650            Becoming  2020  16+  6.8/10          38/100   \n",
      "\n",
      "      Netflix  Hulu  Prime Video  Disney+  Type  \n",
      "0           1     0            0        0     1  \n",
      "1           1     0            0        0     1  \n",
      "2           1     1            0        0     1  \n",
      "3           1     0            0        0     1  \n",
      "4           1     0            0        0     1  \n",
      "...       ...   ...          ...      ...   ...  \n",
      "4701        1     0            1        0     1  \n",
      "5064        1     0            0        1     1  \n",
      "5097        1     0            0        1     1  \n",
      "5231        1     1            0        1     1  \n",
      "5303        1     0            0        1     1  \n",
      "\n",
      "[1971 rows x 12 columns]\n"
     ]
    }
   ],
   "source": [
    "# Filtered List of Netflix Show Availability Count\n",
    "N_filter = df['Netflix'] >= 1\n",
    "df_N_filter = df[N_filter]\n",
    "print(df_N_filter)"
   ]
  },
  {
   "cell_type": "code",
   "execution_count": 84,
   "id": "dc4de527",
   "metadata": {},
   "outputs": [
    {
     "name": "stdout",
     "output_type": "stream",
     "text": [
      "      Unnamed: 0    ID             Title  Year  Age    IMDb Rotten Tomatoes  \\\n",
      "0              0     1      Breaking Bad  2008  18+  9.4/10         100/100   \n",
      "1              1     2   Stranger Things  2016  16+  8.7/10          96/100   \n",
      "2              2     3   Attack on Titan  2013  18+  9.0/10          95/100   \n",
      "3              3     4  Better Call Saul  2015  18+  8.8/10          94/100   \n",
      "4              4     5              Dark  2017  16+  8.8/10          93/100   \n",
      "...          ...   ...               ...   ...  ...     ...             ...   \n",
      "5348        5348  5697     Party Animals  2016  all     NaN          19/100   \n",
      "5349        5349  5698  Nature Boom Time  2016  NaN     NaN          18/100   \n",
      "5356        5356  5705      Marvel Funko  2017  NaN     NaN          14/100   \n",
      "5360        5360  5710       Love & Vets  2017  NaN     NaN          13/100   \n",
      "5363        5363  5713  Paradise Islands  2017  NaN     NaN          10/100   \n",
      "\n",
      "      Netflix  Hulu  Prime Video  Disney+  Type  \n",
      "0           1     0            0        0     1  \n",
      "1           1     0            0        0     1  \n",
      "2           1     1            0        0     1  \n",
      "3           1     0            0        0     1  \n",
      "4           1     0            0        0     1  \n",
      "...       ...   ...          ...      ...   ...  \n",
      "5348        0     0            0        1     1  \n",
      "5349        0     0            0        1     1  \n",
      "5356        0     0            0        1     1  \n",
      "5360        0     0            0        1     1  \n",
      "5363        0     0            0        1     1  \n",
      "\n",
      "[3593 rows x 12 columns]\n"
     ]
    }
   ],
   "source": [
    "year_filter = df['Year'] < 2018\n",
    "df_newer = df[year_filter]\n",
    "print(df_newer)"
   ]
  }
 ],
 "metadata": {
  "kernelspec": {
   "display_name": "data-analysis-env",
   "language": "python",
   "name": "python3"
  },
  "language_info": {
   "codemirror_mode": {
    "name": "ipython",
    "version": 3
   },
   "file_extension": ".py",
   "mimetype": "text/x-python",
   "name": "python",
   "nbconvert_exporter": "python",
   "pygments_lexer": "ipython3",
   "version": "3.9.22"
  }
 },
 "nbformat": 4,
 "nbformat_minor": 5
}
