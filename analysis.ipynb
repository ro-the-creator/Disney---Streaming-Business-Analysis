{
 "cells": [
  {
   "cell_type": "code",
   "execution_count": 1,
   "id": "cbddcabf",
   "metadata": {},
   "outputs": [
    {
     "name": "stdout",
     "output_type": "stream",
     "text": [
      "List of column names: ['', 'ID', 'Title', 'Year', 'Age', 'IMDb', 'Rotten Tomatoes', 'Netflix', 'Hulu', 'Prime Video', 'Disney+', 'Type']\n",
      "First 5 Rows: ['0', '1', 'Breaking Bad', '2008', '18+', '9.4/10', '100/100', '1', '0', '0', '0', '1']\n",
      "First 5 Rows: ['1', '2', 'Stranger Things', '2016', '16+', '8.7/10', '96/100', '1', '0', '0', '0', '1']\n",
      "First 5 Rows: ['2', '3', 'Attack on Titan', '2013', '18+', '9.0/10', '95/100', '1', '1', '0', '0', '1']\n",
      "First 5 Rows: ['3', '4', 'Better Call Saul', '2015', '18+', '8.8/10', '94/100', '1', '0', '0', '0', '1']\n",
      "First 5 Rows: ['4', '5', 'Dark', '2017', '16+', '8.8/10', '93/100', '1', '0', '0', '0', '1']\n"
     ]
    }
   ],
   "source": [
    "import csv\n",
    "import pandas as pd\n",
    "\n",
    "# Column Names and First 5 Rows\n",
    "with open('/Users/Marcy_Student/Desktop/m0-Final_Project/data/tv_shows.csv', 'r', encoding='utf-8') as file:\n",
    "    reader = csv.reader(file,delimiter=',') \n",
    "    header = next(reader)\n",
    "    print(\"List of column names:\", header)\n",
    "    for i, row in enumerate(reader):\n",
    "        if i < 5:\n",
    "            print('First 5 Rows:', row)\n",
    "    \n",
    "\n",
    "\n",
    "\n"
   ]
  },
  {
   "cell_type": "code",
   "execution_count": 2,
   "id": "e4952a7a",
   "metadata": {},
   "outputs": [
    {
     "name": "stdout",
     "output_type": "stream",
     "text": [
      "Header Type: <class 'str'>\n",
      "Header Type: <class 'str'>\n",
      "Header Type: <class 'str'>\n",
      "Header Type: <class 'str'>\n",
      "Header Type: <class 'str'>\n",
      "Header Type: <class 'str'>\n",
      "Header Type: <class 'str'>\n",
      "Header Type: <class 'str'>\n",
      "Header Type: <class 'str'>\n",
      "Header Type: <class 'str'>\n",
      "Header Type: <class 'str'>\n"
     ]
    }
   ],
   "source": [
    "# Header Type\n",
    "for item in header[0:-1]:\n",
    "    print('Header Type:', type(item))"
   ]
  },
  {
   "cell_type": "code",
   "execution_count": 3,
   "id": "a2cddecd",
   "metadata": {},
   "outputs": [
    {
     "name": "stdout",
     "output_type": "stream",
     "text": [
      "Netflix Show Availability: 1971\n",
      "Hulu Show Availability: 1621\n",
      "Prime Video Show Availability: 1831\n",
      "Disney+ Show Availability: 351\n"
     ]
    }
   ],
   "source": [
    "# Show Availability Count of all Streaming Platforms\n",
    "df = pd.read_csv('/Users/Marcy_Student/Desktop/m0-Final_Project/data/tv_shows.csv')\n",
    "\n",
    "N_count = df['Netflix'] >= 1\n",
    "H_count = df['Hulu'] >= 1\n",
    "PV_count = df['Prime Video'] >= 1\n",
    "D_count = df['Disney+'] >= 1\n",
    "\n",
    "print('Netflix Show Availability:', N_count.sum())\n",
    "print('Hulu Show Availability:',H_count.sum())\n",
    "print('Prime Video Show Availability:', PV_count.sum())\n",
    "print('Disney+ Show Availability:', D_count.sum())\n"
   ]
  },
  {
   "cell_type": "code",
   "execution_count": 14,
   "id": "24229bbf",
   "metadata": {},
   "outputs": [],
   "source": [
    "df_replaced = df['Rotten Tomatoes'].str.replace('/100', '')"
   ]
  },
  {
   "cell_type": "code",
   "execution_count": 19,
   "id": "f883912b",
   "metadata": {},
   "outputs": [
    {
     "data": {
      "text/plain": [
       "dtype('O')"
      ]
     },
     "execution_count": 19,
     "metadata": {},
     "output_type": "execute_result"
    }
   ],
   "source": [
    "df_replaced.dtypes"
   ]
  },
  {
   "cell_type": "code",
   "execution_count": 22,
   "id": "64bd114e",
   "metadata": {},
   "outputs": [
    {
     "ename": "KeyError",
     "evalue": "\"None of [Index(['100', '96', '95', '94', '93', '93', '93', '93', '92', '92',\\n       ...\\n       '14', '13', '13', '13', '10', '10', '10', '10', '10', '10'],\\n      dtype='object', length=5368)] are in the [index]\"",
     "output_type": "error",
     "traceback": [
      "\u001b[0;31m---------------------------------------------------------------------------\u001b[0m",
      "\u001b[0;31mKeyError\u001b[0m                                  Traceback (most recent call last)",
      "Cell \u001b[0;32mIn[22], line 1\u001b[0m\n\u001b[0;32m----> 1\u001b[0m df_RT_replaced \u001b[38;5;241m=\u001b[39m \u001b[43mdf\u001b[49m\u001b[43m[\u001b[49m\u001b[38;5;124;43m'\u001b[39;49m\u001b[38;5;124;43mRotten Tomatoes\u001b[39;49m\u001b[38;5;124;43m'\u001b[39;49m\u001b[43m]\u001b[49m\u001b[43m[\u001b[49m\u001b[43mdf_replaced\u001b[49m\u001b[43m]\u001b[49m\n",
      "File \u001b[0;32m/opt/miniconda3/envs/data-analysis-env/lib/python3.9/site-packages/pandas/core/series.py:1153\u001b[0m, in \u001b[0;36mSeries.__getitem__\u001b[0;34m(self, key)\u001b[0m\n\u001b[1;32m   1150\u001b[0m     key \u001b[38;5;241m=\u001b[39m np\u001b[38;5;241m.\u001b[39masarray(key, dtype\u001b[38;5;241m=\u001b[39m\u001b[38;5;28mbool\u001b[39m)\n\u001b[1;32m   1151\u001b[0m     \u001b[38;5;28;01mreturn\u001b[39;00m \u001b[38;5;28mself\u001b[39m\u001b[38;5;241m.\u001b[39m_get_rows_with_mask(key)\n\u001b[0;32m-> 1153\u001b[0m \u001b[38;5;28;01mreturn\u001b[39;00m \u001b[38;5;28;43mself\u001b[39;49m\u001b[38;5;241;43m.\u001b[39;49m\u001b[43m_get_with\u001b[49m\u001b[43m(\u001b[49m\u001b[43mkey\u001b[49m\u001b[43m)\u001b[49m\n",
      "File \u001b[0;32m/opt/miniconda3/envs/data-analysis-env/lib/python3.9/site-packages/pandas/core/series.py:1194\u001b[0m, in \u001b[0;36mSeries._get_with\u001b[0;34m(self, key)\u001b[0m\n\u001b[1;32m   1191\u001b[0m         \u001b[38;5;28;01mreturn\u001b[39;00m \u001b[38;5;28mself\u001b[39m\u001b[38;5;241m.\u001b[39miloc[key]\n\u001b[1;32m   1193\u001b[0m \u001b[38;5;66;03m# handle the dup indexing case GH#4246\u001b[39;00m\n\u001b[0;32m-> 1194\u001b[0m \u001b[38;5;28;01mreturn\u001b[39;00m \u001b[38;5;28;43mself\u001b[39;49m\u001b[38;5;241;43m.\u001b[39;49m\u001b[43mloc\u001b[49m\u001b[43m[\u001b[49m\u001b[43mkey\u001b[49m\u001b[43m]\u001b[49m\n",
      "File \u001b[0;32m/opt/miniconda3/envs/data-analysis-env/lib/python3.9/site-packages/pandas/core/indexing.py:1191\u001b[0m, in \u001b[0;36m_LocationIndexer.__getitem__\u001b[0;34m(self, key)\u001b[0m\n\u001b[1;32m   1189\u001b[0m maybe_callable \u001b[38;5;241m=\u001b[39m com\u001b[38;5;241m.\u001b[39mapply_if_callable(key, \u001b[38;5;28mself\u001b[39m\u001b[38;5;241m.\u001b[39mobj)\n\u001b[1;32m   1190\u001b[0m maybe_callable \u001b[38;5;241m=\u001b[39m \u001b[38;5;28mself\u001b[39m\u001b[38;5;241m.\u001b[39m_check_deprecated_callable_usage(key, maybe_callable)\n\u001b[0;32m-> 1191\u001b[0m \u001b[38;5;28;01mreturn\u001b[39;00m \u001b[38;5;28;43mself\u001b[39;49m\u001b[38;5;241;43m.\u001b[39;49m\u001b[43m_getitem_axis\u001b[49m\u001b[43m(\u001b[49m\u001b[43mmaybe_callable\u001b[49m\u001b[43m,\u001b[49m\u001b[43m \u001b[49m\u001b[43maxis\u001b[49m\u001b[38;5;241;43m=\u001b[39;49m\u001b[43maxis\u001b[49m\u001b[43m)\u001b[49m\n",
      "File \u001b[0;32m/opt/miniconda3/envs/data-analysis-env/lib/python3.9/site-packages/pandas/core/indexing.py:1420\u001b[0m, in \u001b[0;36m_LocIndexer._getitem_axis\u001b[0;34m(self, key, axis)\u001b[0m\n\u001b[1;32m   1417\u001b[0m     \u001b[38;5;28;01mif\u001b[39;00m \u001b[38;5;28mhasattr\u001b[39m(key, \u001b[38;5;124m\"\u001b[39m\u001b[38;5;124mndim\u001b[39m\u001b[38;5;124m\"\u001b[39m) \u001b[38;5;129;01mand\u001b[39;00m key\u001b[38;5;241m.\u001b[39mndim \u001b[38;5;241m>\u001b[39m \u001b[38;5;241m1\u001b[39m:\n\u001b[1;32m   1418\u001b[0m         \u001b[38;5;28;01mraise\u001b[39;00m \u001b[38;5;167;01mValueError\u001b[39;00m(\u001b[38;5;124m\"\u001b[39m\u001b[38;5;124mCannot index with multidimensional key\u001b[39m\u001b[38;5;124m\"\u001b[39m)\n\u001b[0;32m-> 1420\u001b[0m     \u001b[38;5;28;01mreturn\u001b[39;00m \u001b[38;5;28;43mself\u001b[39;49m\u001b[38;5;241;43m.\u001b[39;49m\u001b[43m_getitem_iterable\u001b[49m\u001b[43m(\u001b[49m\u001b[43mkey\u001b[49m\u001b[43m,\u001b[49m\u001b[43m \u001b[49m\u001b[43maxis\u001b[49m\u001b[38;5;241;43m=\u001b[39;49m\u001b[43maxis\u001b[49m\u001b[43m)\u001b[49m\n\u001b[1;32m   1422\u001b[0m \u001b[38;5;66;03m# nested tuple slicing\u001b[39;00m\n\u001b[1;32m   1423\u001b[0m \u001b[38;5;28;01mif\u001b[39;00m is_nested_tuple(key, labels):\n",
      "File \u001b[0;32m/opt/miniconda3/envs/data-analysis-env/lib/python3.9/site-packages/pandas/core/indexing.py:1360\u001b[0m, in \u001b[0;36m_LocIndexer._getitem_iterable\u001b[0;34m(self, key, axis)\u001b[0m\n\u001b[1;32m   1357\u001b[0m \u001b[38;5;28mself\u001b[39m\u001b[38;5;241m.\u001b[39m_validate_key(key, axis)\n\u001b[1;32m   1359\u001b[0m \u001b[38;5;66;03m# A collection of keys\u001b[39;00m\n\u001b[0;32m-> 1360\u001b[0m keyarr, indexer \u001b[38;5;241m=\u001b[39m \u001b[38;5;28;43mself\u001b[39;49m\u001b[38;5;241;43m.\u001b[39;49m\u001b[43m_get_listlike_indexer\u001b[49m\u001b[43m(\u001b[49m\u001b[43mkey\u001b[49m\u001b[43m,\u001b[49m\u001b[43m \u001b[49m\u001b[43maxis\u001b[49m\u001b[43m)\u001b[49m\n\u001b[1;32m   1361\u001b[0m \u001b[38;5;28;01mreturn\u001b[39;00m \u001b[38;5;28mself\u001b[39m\u001b[38;5;241m.\u001b[39mobj\u001b[38;5;241m.\u001b[39m_reindex_with_indexers(\n\u001b[1;32m   1362\u001b[0m     {axis: [keyarr, indexer]}, copy\u001b[38;5;241m=\u001b[39m\u001b[38;5;28;01mTrue\u001b[39;00m, allow_dups\u001b[38;5;241m=\u001b[39m\u001b[38;5;28;01mTrue\u001b[39;00m\n\u001b[1;32m   1363\u001b[0m )\n",
      "File \u001b[0;32m/opt/miniconda3/envs/data-analysis-env/lib/python3.9/site-packages/pandas/core/indexing.py:1558\u001b[0m, in \u001b[0;36m_LocIndexer._get_listlike_indexer\u001b[0;34m(self, key, axis)\u001b[0m\n\u001b[1;32m   1555\u001b[0m ax \u001b[38;5;241m=\u001b[39m \u001b[38;5;28mself\u001b[39m\u001b[38;5;241m.\u001b[39mobj\u001b[38;5;241m.\u001b[39m_get_axis(axis)\n\u001b[1;32m   1556\u001b[0m axis_name \u001b[38;5;241m=\u001b[39m \u001b[38;5;28mself\u001b[39m\u001b[38;5;241m.\u001b[39mobj\u001b[38;5;241m.\u001b[39m_get_axis_name(axis)\n\u001b[0;32m-> 1558\u001b[0m keyarr, indexer \u001b[38;5;241m=\u001b[39m \u001b[43max\u001b[49m\u001b[38;5;241;43m.\u001b[39;49m\u001b[43m_get_indexer_strict\u001b[49m\u001b[43m(\u001b[49m\u001b[43mkey\u001b[49m\u001b[43m,\u001b[49m\u001b[43m \u001b[49m\u001b[43maxis_name\u001b[49m\u001b[43m)\u001b[49m\n\u001b[1;32m   1560\u001b[0m \u001b[38;5;28;01mreturn\u001b[39;00m keyarr, indexer\n",
      "File \u001b[0;32m/opt/miniconda3/envs/data-analysis-env/lib/python3.9/site-packages/pandas/core/indexes/base.py:6200\u001b[0m, in \u001b[0;36mIndex._get_indexer_strict\u001b[0;34m(self, key, axis_name)\u001b[0m\n\u001b[1;32m   6197\u001b[0m \u001b[38;5;28;01melse\u001b[39;00m:\n\u001b[1;32m   6198\u001b[0m     keyarr, indexer, new_indexer \u001b[38;5;241m=\u001b[39m \u001b[38;5;28mself\u001b[39m\u001b[38;5;241m.\u001b[39m_reindex_non_unique(keyarr)\n\u001b[0;32m-> 6200\u001b[0m \u001b[38;5;28;43mself\u001b[39;49m\u001b[38;5;241;43m.\u001b[39;49m\u001b[43m_raise_if_missing\u001b[49m\u001b[43m(\u001b[49m\u001b[43mkeyarr\u001b[49m\u001b[43m,\u001b[49m\u001b[43m \u001b[49m\u001b[43mindexer\u001b[49m\u001b[43m,\u001b[49m\u001b[43m \u001b[49m\u001b[43maxis_name\u001b[49m\u001b[43m)\u001b[49m\n\u001b[1;32m   6202\u001b[0m keyarr \u001b[38;5;241m=\u001b[39m \u001b[38;5;28mself\u001b[39m\u001b[38;5;241m.\u001b[39mtake(indexer)\n\u001b[1;32m   6203\u001b[0m \u001b[38;5;28;01mif\u001b[39;00m \u001b[38;5;28misinstance\u001b[39m(key, Index):\n\u001b[1;32m   6204\u001b[0m     \u001b[38;5;66;03m# GH 42790 - Preserve name from an Index\u001b[39;00m\n",
      "File \u001b[0;32m/opt/miniconda3/envs/data-analysis-env/lib/python3.9/site-packages/pandas/core/indexes/base.py:6249\u001b[0m, in \u001b[0;36mIndex._raise_if_missing\u001b[0;34m(self, key, indexer, axis_name)\u001b[0m\n\u001b[1;32m   6247\u001b[0m \u001b[38;5;28;01mif\u001b[39;00m nmissing:\n\u001b[1;32m   6248\u001b[0m     \u001b[38;5;28;01mif\u001b[39;00m nmissing \u001b[38;5;241m==\u001b[39m \u001b[38;5;28mlen\u001b[39m(indexer):\n\u001b[0;32m-> 6249\u001b[0m         \u001b[38;5;28;01mraise\u001b[39;00m \u001b[38;5;167;01mKeyError\u001b[39;00m(\u001b[38;5;124mf\u001b[39m\u001b[38;5;124m\"\u001b[39m\u001b[38;5;124mNone of [\u001b[39m\u001b[38;5;132;01m{\u001b[39;00mkey\u001b[38;5;132;01m}\u001b[39;00m\u001b[38;5;124m] are in the [\u001b[39m\u001b[38;5;132;01m{\u001b[39;00maxis_name\u001b[38;5;132;01m}\u001b[39;00m\u001b[38;5;124m]\u001b[39m\u001b[38;5;124m\"\u001b[39m)\n\u001b[1;32m   6251\u001b[0m     not_found \u001b[38;5;241m=\u001b[39m \u001b[38;5;28mlist\u001b[39m(ensure_index(key)[missing_mask\u001b[38;5;241m.\u001b[39mnonzero()[\u001b[38;5;241m0\u001b[39m]]\u001b[38;5;241m.\u001b[39munique())\n\u001b[1;32m   6252\u001b[0m     \u001b[38;5;28;01mraise\u001b[39;00m \u001b[38;5;167;01mKeyError\u001b[39;00m(\u001b[38;5;124mf\u001b[39m\u001b[38;5;124m\"\u001b[39m\u001b[38;5;132;01m{\u001b[39;00mnot_found\u001b[38;5;132;01m}\u001b[39;00m\u001b[38;5;124m not in index\u001b[39m\u001b[38;5;124m\"\u001b[39m)\n",
      "\u001b[0;31mKeyError\u001b[0m: \"None of [Index(['100', '96', '95', '94', '93', '93', '93', '93', '92', '92',\\n       ...\\n       '14', '13', '13', '13', '10', '10', '10', '10', '10', '10'],\\n      dtype='object', length=5368)] are in the [index]\""
     ]
    }
   ],
   "source": [
    "df_RT_replaced = df['Rotten Tomatoes'][df_replaced]"
   ]
  },
  {
   "cell_type": "code",
   "execution_count": 5,
   "id": "780f1ff6",
   "metadata": {},
   "outputs": [
    {
     "data": {
      "text/plain": [
       "0       100\n",
       "1        96\n",
       "2        95\n",
       "3        94\n",
       "4        93\n",
       "       ... \n",
       "5363     10\n",
       "5364     10\n",
       "5365     10\n",
       "5366     10\n",
       "5367     10\n",
       "Name: Rotten Tomatoes, Length: 5368, dtype: object"
      ]
     },
     "execution_count": 5,
     "metadata": {},
     "output_type": "execute_result"
    }
   ],
   "source": [
    "df_replaced"
   ]
  },
  {
   "cell_type": "code",
   "execution_count": null,
   "id": "496a4c32",
   "metadata": {},
   "outputs": [
    {
     "name": "stdout",
     "output_type": "stream",
     "text": [
      "      Unnamed: 0    ID               Title  Year  Age    IMDb Rotten Tomatoes  \\\n",
      "0              0     1        Breaking Bad  2008  18+  9.4/10         100/100   \n",
      "1              1     2     Stranger Things  2016  16+  8.7/10          96/100   \n",
      "2              2     3     Attack on Titan  2013  18+  9.0/10          95/100   \n",
      "3              3     4    Better Call Saul  2015  18+  8.8/10          94/100   \n",
      "4              4     5                Dark  2017  16+  8.8/10          93/100   \n",
      "...          ...   ...                 ...   ...  ...     ...             ...   \n",
      "4701        4701  5017        Human Nature  2013  NaN     NaN          13/100   \n",
      "5064        5064  5385       The Bad Batch  2021   7+  8.2/10          82/100   \n",
      "5097        5097  5425         The Muppets  2015   7+  7.4/10          64/100   \n",
      "5231        5231  5575  Pick of the Litter  2019   7+  8.1/10          47/100   \n",
      "5303        5303  5650            Becoming  2020  16+  6.8/10          38/100   \n",
      "\n",
      "      Netflix  Hulu  Prime Video  Disney+  Type  \n",
      "0           1     0            0        0     1  \n",
      "1           1     0            0        0     1  \n",
      "2           1     1            0        0     1  \n",
      "3           1     0            0        0     1  \n",
      "4           1     0            0        0     1  \n",
      "...       ...   ...          ...      ...   ...  \n",
      "4701        1     0            1        0     1  \n",
      "5064        1     0            0        1     1  \n",
      "5097        1     0            0        1     1  \n",
      "5231        1     1            0        1     1  \n",
      "5303        1     0            0        1     1  \n",
      "\n",
      "[1971 rows x 12 columns]\n"
     ]
    }
   ],
   "source": [
    "# Filtered List of Netflix Show Availability Count\n",
    "N_filter = df['Netflix'] >= 1\n",
    "df_N_filter = df[N_filter]\n",
    "print(df_N_filter)"
   ]
  },
  {
   "cell_type": "code",
   "execution_count": 15,
   "id": "dc4de527",
   "metadata": {},
   "outputs": [
    {
     "name": "stdout",
     "output_type": "stream",
     "text": [
      "      Unnamed: 0    ID             Title  Year  Age    IMDb Rotten Tomatoes  \\\n",
      "0              0     1      Breaking Bad  2008  18+  9.4/10         100/100   \n",
      "1              1     2   Stranger Things  2016  16+  8.7/10          96/100   \n",
      "2              2     3   Attack on Titan  2013  18+  9.0/10          95/100   \n",
      "3              3     4  Better Call Saul  2015  18+  8.8/10          94/100   \n",
      "4              4     5              Dark  2017  16+  8.8/10          93/100   \n",
      "...          ...   ...               ...   ...  ...     ...             ...   \n",
      "5348        5348  5697     Party Animals  2016  all     NaN          19/100   \n",
      "5349        5349  5698  Nature Boom Time  2016  NaN     NaN          18/100   \n",
      "5356        5356  5705      Marvel Funko  2017  NaN     NaN          14/100   \n",
      "5360        5360  5710       Love & Vets  2017  NaN     NaN          13/100   \n",
      "5363        5363  5713  Paradise Islands  2017  NaN     NaN          10/100   \n",
      "\n",
      "      Netflix  Hulu  Prime Video  Disney+  Type  \n",
      "0           1     0            0        0     1  \n",
      "1           1     0            0        0     1  \n",
      "2           1     1            0        0     1  \n",
      "3           1     0            0        0     1  \n",
      "4           1     0            0        0     1  \n",
      "...       ...   ...          ...      ...   ...  \n",
      "5348        0     0            0        1     1  \n",
      "5349        0     0            0        1     1  \n",
      "5356        0     0            0        1     1  \n",
      "5360        0     0            0        1     1  \n",
      "5363        0     0            0        1     1  \n",
      "\n",
      "[3593 rows x 12 columns]\n"
     ]
    }
   ],
   "source": [
    "year_filter = df['Year'] < 2018\n",
    "df_newer = df[year_filter]\n",
    "print(df_newer)"
   ]
  }
 ],
 "metadata": {
  "kernelspec": {
   "display_name": "data-analysis-env",
   "language": "python",
   "name": "python3"
  },
  "language_info": {
   "codemirror_mode": {
    "name": "ipython",
    "version": 3
   },
   "file_extension": ".py",
   "mimetype": "text/x-python",
   "name": "python",
   "nbconvert_exporter": "python",
   "pygments_lexer": "ipython3",
   "version": "3.9.22"
  }
 },
 "nbformat": 4,
 "nbformat_minor": 5
}
